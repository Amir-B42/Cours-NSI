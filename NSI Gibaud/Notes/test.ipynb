{
 "cells": [
  {
   "cell_type": "code",
   "execution_count": 1,
   "metadata": {},
   "outputs": [],
   "source": [
    "def recherche(elt, tab):\n",
    "    \"\"\"elt : le nombre entier recherché\n",
    "       tab : tableau d'entiers\n",
    "        La fonction renvoie l'indice de la première occurence de elt dans tab, sinon -1\"\"\"\n",
    "    assert type(elt) == int\n",
    "    assert type(tab) == list\n",
    "\n",
    "    for i in tab:\n",
    "        if i == elt:\n",
    "            result = tab.index(elt)\n",
    "            return result\n",
    "        else:\n",
    "            result = -1\n",
    "    return result"
   ]
  },
  {
   "cell_type": "code",
   "execution_count": 6,
   "metadata": {},
   "outputs": [
    {
     "name": "stdout",
     "output_type": "stream",
     "text": [
      "5\n"
     ]
    }
   ],
   "source": [
    "liste = [1,2,2,4,5,3]\n",
    "print(recherche(3, liste))"
   ]
  },
  {
   "cell_type": "code",
   "execution_count": 9,
   "metadata": {},
   "outputs": [],
   "source": [
    "def Moyenne():\n",
    "    nom = input(\"Votre nom :\")\n",
    "    prenom = input(\"Votre prénom :\")\n",
    "    print(len(nom+prenom))\n",
    "    HG = float(input(\"Moyenne de H-G:\"))*3\n",
    "    LV1 = float(input(\"Moyenne de LV1:\"))*3\n",
    "    LV2 = float(input(\"Moyenne de LV2:\"))*3\n",
    "    ES = float(input(\"Moyenne de ES:\"))*3\n",
    "    Spé1 = float(input(\"Moyenne de Spé1:\"))*8\n",
    "    Fr_e = float(input(\"Moyenne de Français écrit:\"))*5\n",
    "    Fr_o = float(input(\"Moyenne de Français oral:\"))*5\n",
    "    EPS = float(input(\"Moyenne de EPS:\"))*6\n",
    "    Spé2 = float(input(\"Moyenne de Spé2:\"))*16\n",
    "    Spé3 = float(input(\"Moyenne de Spé3:\"))*16\n",
    "    Philo = float(input(\"Moyenne de Philosophie:\"))*8\n",
    "    grdoral = float(input(\"Moyenne de Grand Oral:\"))*14\n",
    "    moy = (HG+LV1+LV2+ES+Spé1+Spé2+Spé3+Fr_e+Fr_o+EPS+Philo+grdoral)/90\n",
    "    if moy < 8:\n",
    "        mention = \"Vous n'avez pas eu votre bac\"\n",
    "    elif moy >= 16:\n",
    "        mention = \"Vous avez eu votre bac avec mention très bien\"\n",
    "    elif 8 <= moy < 10 :\n",
    "        mention = \"Vous êtes en rattrapage, il vous manque \" + str(10-moy) + \"points pour avoir le bac\"\n",
    "        \n",
    "    elif 10 <= moy <12 : \n",
    "        mention = \"Vous avez eu votre bac sans mention\"\n",
    "    elif 12 <= moy <14 : \n",
    "        mention = \"Vous avez eu votre bac avec mention assez bien\"\n",
    "    elif 14 <= moy <16 : \n",
    "        mention = \"Vous avez eu votre bac avec mention bien\"\n",
    "    \n",
    "    \n",
    "    \n",
    "    return prenom[0] +prenom[1]+ prenom[2] +\" \"+ nom[0] + \".\" + \", votre moyenne au bac est de \" + str(round(moy,2))+\"/20, \" + str(mention)"
   ]
  },
  {
   "cell_type": "code",
   "execution_count": 8,
   "metadata": {},
   "outputs": [
    {
     "name": "stdout",
     "output_type": "stream",
     "text": [
      "13\n"
     ]
    },
    {
     "data": {
      "text/plain": [
       "'AAZ A., votre moyenne au bac est de 16.1/20, Vous avez eu votre bac avec mention très bien'"
      ]
     },
     "execution_count": 8,
     "metadata": {},
     "output_type": "execute_result"
    }
   ],
   "source": [
    "Moyenne()"
   ]
  },
  {
   "cell_type": "code",
   "execution_count": null,
   "metadata": {},
   "outputs": [],
   "source": []
  }
 ],
 "metadata": {
  "kernelspec": {
   "display_name": "Python 3",
   "language": "python",
   "name": "python3"
  },
  "language_info": {
   "codemirror_mode": {
    "name": "ipython",
    "version": 3
   },
   "file_extension": ".py",
   "mimetype": "text/x-python",
   "name": "python",
   "nbconvert_exporter": "python",
   "pygments_lexer": "ipython3",
   "version": "3.8.2"
  }
 },
 "nbformat": 4,
 "nbformat_minor": 2
}
